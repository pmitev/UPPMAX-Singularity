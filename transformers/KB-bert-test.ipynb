{
 "cells": [
  {
   "cell_type": "code",
   "execution_count": 1,
   "id": "263bbf52-feb0-4ff9-b180-83dc41c25316",
   "metadata": {
    "execution": {
     "iopub.execute_input": "2024-02-14T08:53:14.753574Z",
     "iopub.status.busy": "2024-02-14T08:53:14.752940Z",
     "iopub.status.idle": "2024-02-14T08:53:14.762354Z",
     "shell.execute_reply": "2024-02-14T08:53:14.762016Z",
     "shell.execute_reply.started": "2024-02-14T08:53:14.753517Z"
    }
   },
   "outputs": [
    {
     "name": "stdout",
     "output_type": "stream",
     "text": [
      "env: HF_HOME=/tmp/TR\n",
      "env: TRANSFORMERS_OFFLINE=1\n",
      "env: HF_DATASETS_OFFLINE=1\n"
     ]
    }
   ],
   "source": [
    "# Set the path to the folder with models\n",
    "%env HF_HOME=/tmp/TR\n",
    "%env TRANSFORMERS_OFFLINE=1\n",
    "%env HF_DATASETS_OFFLINE=1"
   ]
  },
  {
   "cell_type": "code",
   "execution_count": 2,
   "id": "94f1254a-dbbe-4c4f-936c-96956d95686e",
   "metadata": {
    "execution": {
     "iopub.execute_input": "2024-02-14T08:53:16.509430Z",
     "iopub.status.busy": "2024-02-14T08:53:16.509230Z",
     "iopub.status.idle": "2024-02-14T08:53:19.907017Z",
     "shell.execute_reply": "2024-02-14T08:53:19.906533Z",
     "shell.execute_reply.started": "2024-02-14T08:53:16.509417Z"
    }
   },
   "outputs": [],
   "source": [
    "from transformers import AutoModel,AutoTokenizer\n",
    "\n",
    "tok = AutoTokenizer.from_pretrained('KB/bert-base-swedish-cased')\n",
    "model = AutoModel.from_pretrained('KB/bert-base-swedish-cased')"
   ]
  },
  {
   "cell_type": "code",
   "execution_count": 3,
   "id": "032dbfc8-b0f0-4fdd-ae99-9486d79b3618",
   "metadata": {
    "execution": {
     "iopub.execute_input": "2024-02-14T08:53:22.702817Z",
     "iopub.status.busy": "2024-02-14T08:53:22.702020Z",
     "iopub.status.idle": "2024-02-14T08:53:26.870351Z",
     "shell.execute_reply": "2024-02-14T08:53:26.869932Z",
     "shell.execute_reply.started": "2024-02-14T08:53:22.702762Z"
    }
   },
   "outputs": [
    {
     "name": "stderr",
     "output_type": "stream",
     "text": [
      "2024-02-14 09:53:23.595935: E external/local_xla/xla/stream_executor/cuda/cuda_dnn.cc:9261] Unable to register cuDNN factory: Attempting to register factory for plugin cuDNN when one has already been registered\n",
      "2024-02-14 09:53:23.596979: E external/local_xla/xla/stream_executor/cuda/cuda_fft.cc:607] Unable to register cuFFT factory: Attempting to register factory for plugin cuFFT when one has already been registered\n",
      "2024-02-14 09:53:23.677965: E external/local_xla/xla/stream_executor/cuda/cuda_blas.cc:1515] Unable to register cuBLAS factory: Attempting to register factory for plugin cuBLAS when one has already been registered\n",
      "2024-02-14 09:53:23.824812: I tensorflow/core/platform/cpu_feature_guard.cc:182] This TensorFlow binary is optimized to use available CPU instructions in performance-critical operations.\n",
      "To enable the following instructions: AVX2 FMA, in other operations, rebuild TensorFlow with the appropriate compiler flags.\n",
      "2024-02-14 09:53:24.938227: W tensorflow/compiler/tf2tensorrt/utils/py_utils.cc:38] TF-TRT Warning: Could not find TensorRT\n",
      "Some weights of the model checkpoint at KB/bert-base-swedish-cased-ner were not used when initializing BertForTokenClassification: ['bert.pooler.dense.bias', 'bert.pooler.dense.weight']\n",
      "- This IS expected if you are initializing BertForTokenClassification from the checkpoint of a model trained on another task or with another architecture (e.g. initializing a BertForSequenceClassification model from a BertForPreTraining model).\n",
      "- This IS NOT expected if you are initializing BertForTokenClassification from the checkpoint of a model that you expect to be exactly identical (initializing a BertForSequenceClassification model from a BertForSequenceClassification model).\n",
      "Asking to truncate to max_length but no maximum length is provided and the model has no predefined maximum length. Default to no truncation.\n"
     ]
    },
    {
     "data": {
      "text/plain": [
       "[{'entity': 'TME',\n",
       "  'score': 0.99974006,\n",
       "  'index': 1,\n",
       "  'word': 'Idag',\n",
       "  'start': 0,\n",
       "  'end': 4},\n",
       " {'entity': 'ORG',\n",
       "  'score': 0.83890074,\n",
       "  'index': 3,\n",
       "  'word': 'KB',\n",
       "  'start': 13,\n",
       "  'end': 15}]"
      ]
     },
     "execution_count": 3,
     "metadata": {},
     "output_type": "execute_result"
    }
   ],
   "source": [
    "from transformers import pipeline\n",
    "\n",
    "nlp = pipeline('ner', model='KB/bert-base-swedish-cased-ner', tokenizer='KB/bert-base-swedish-cased-ner')\n",
    "nlp('Idag släpper KB tre språkmodeller.')"
   ]
  },
  {
   "cell_type": "code",
   "execution_count": 4,
   "id": "4c2e6caa-53c2-4be2-b0ed-c29367de0d64",
   "metadata": {
    "execution": {
     "iopub.execute_input": "2024-02-14T08:53:28.365007Z",
     "iopub.status.busy": "2024-02-14T08:53:28.364706Z",
     "iopub.status.idle": "2024-02-14T08:53:28.730690Z",
     "shell.execute_reply": "2024-02-14T08:53:28.730107Z",
     "shell.execute_reply.started": "2024-02-14T08:53:28.364993Z"
    }
   },
   "outputs": [],
   "source": [
    "from transformers import AutoModel,AutoTokenizer\n",
    "\n",
    "tok = AutoTokenizer.from_pretrained('KB/albert-base-swedish-cased-alpha'),\n",
    "model = AutoModel.from_pretrained('KB/albert-base-swedish-cased-alpha')"
   ]
  },
  {
   "cell_type": "code",
   "execution_count": 5,
   "id": "53d2f369-808f-4f07-9ebb-0ca0c8ca4659",
   "metadata": {
    "execution": {
     "iopub.execute_input": "2024-02-14T08:53:30.227656Z",
     "iopub.status.busy": "2024-02-14T08:53:30.227476Z",
     "iopub.status.idle": "2024-02-14T08:53:30.259088Z",
     "shell.execute_reply": "2024-02-14T08:53:30.258762Z",
     "shell.execute_reply.started": "2024-02-14T08:53:30.227645Z"
    }
   },
   "outputs": [
    {
     "name": "stdout",
     "output_type": "stream",
     "text": [
      "[{'entity': 'PER', 'score': 0.99975806, 'index': 1, 'word': 'Engelbert', 'start': 0, 'end': 5}, {'entity': 'LOC', 'score': 0.9976674, 'index': 7, 'word': 'Tele2', 'start': 26, 'end': 30}, {'entity': 'LOC', 'score': 0.99852705, 'index': 9, 'word': 'Arena', 'start': 32, 'end': 37}, {'entity': 'ORG', 'score': 0.99859554, 'index': 14, 'word': 'Djurgården', 'start': 55, 'end': 65}, {'entity': 'ORG', 'score': 0.9982318, 'index': 15, 'word': 'IF', 'start': 66, 'end': 68}, {'entity': 'EVN', 'score': 0.9992836, 'index': 20, 'word': 'VM', 'start': 90, 'end': 92}, {'entity': 'TME', 'score': 0.9990664, 'index': 21, 'word': 'klockan', 'start': 93, 'end': 100}, {'entity': 'TME', 'score': 0.9987207, 'index': 22, 'word': 'två', 'start': 101, 'end': 104}, {'entity': 'TME', 'score': 0.99967337, 'index': 23, 'word': 'på', 'start': 105, 'end': 107}, {'entity': 'TME', 'score': 0.99963784, 'index': 24, 'word': 'kvällen', 'start': 108, 'end': 115}]\n"
     ]
    }
   ],
   "source": [
    "text = 'Engelbert tar Volvon till Tele2 Arena för att titta på Djurgården IF ' +\\\n",
    "       'som spelar fotboll i VM klockan två på kvällen.'\n",
    "\n",
    "l = []\n",
    "for token in nlp(text):\n",
    "    if token['word'].startswith('##'):\n",
    "        l[-1]['word'] += token['word'][2:]\n",
    "    else:\n",
    "        l += [ token ]\n",
    "\n",
    "print(l)"
   ]
  },
  {
   "cell_type": "code",
   "execution_count": null,
   "id": "ea773c68-6bfb-4466-b50b-ec78b9c42784",
   "metadata": {},
   "outputs": [],
   "source": []
  },
  {
   "cell_type": "code",
   "execution_count": null,
   "id": "9e761da3-f116-4351-b120-7c7671436a93",
   "metadata": {},
   "outputs": [],
   "source": []
  }
 ],
 "metadata": {
  "kernelspec": {
   "display_name": "Python 3 (ipykernel)",
   "language": "python",
   "name": "python3"
  },
  "language_info": {
   "codemirror_mode": {
    "name": "ipython",
    "version": 3
   },
   "file_extension": ".py",
   "mimetype": "text/x-python",
   "name": "python",
   "nbconvert_exporter": "python",
   "pygments_lexer": "ipython3",
   "version": "3.11.6"
  }
 },
 "nbformat": 4,
 "nbformat_minor": 5
}
